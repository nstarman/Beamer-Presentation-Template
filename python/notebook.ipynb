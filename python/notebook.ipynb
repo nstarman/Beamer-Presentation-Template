{
  "cells": [
    {
      "cell_type": "markdown",
      "source": [
        "# Title"
      ],
      "metadata": {}
    },
    {
      "cell_type": "code",
      "source": [
        "\"\"\"\n",
        "    TITLE   :\n",
        "    AUTHOR  :\n",
        "    PROJECT :\n",
        "\"\"\";\n",
        "\n",
        "__author__ = ''\n",
        "__version__ = ''"
      ],
      "outputs": [],
      "execution_count": null,
      "metadata": {
        "collapsed": false,
        "outputHidden": false,
        "inputHidden": false
      }
    },
    {
      "cell_type": "markdown",
      "source": [
        "<span style='font-size:30px;font-weight:650'>\n",
        "    About\n",
        "</span>\n",
        "\n",
        "information about this notebook  \n",
        "see commented out lines (below)\n",
        "\n",
        "<!--\n",
        "<span style='font-size:25px;font-weight:600'>\n",
        "    About\n",
        "</span>\n",
        "\n",
        "## Future Work\n",
        "--!>"
      ],
      "metadata": {}
    },
    {
      "cell_type": "markdown",
      "source": [
        "<br><br>\n",
        "\n",
        "- - - \n",
        "\n",
        "## Prepare\n"
      ],
      "metadata": {}
    },
    {
      "cell_type": "markdown",
      "source": [
        "### Imports"
      ],
      "metadata": {
        "collapsed": false,
        "outputHidden": false,
        "inputHidden": false
      }
    },
    {
      "cell_type": "code",
      "source": [
        "# BUILT-IN\n",
        "\n",
        "# THIRD PARTY\n",
        "\n",
        "# FIRST PARTY\n",
        "\n",
        "# PROJECT-SPECIFIC"
      ],
      "outputs": [],
      "execution_count": null,
      "metadata": {
        "collapsed": false,
        "outputHidden": false,
        "inputHidden": false
      }
    },
    {
      "cell_type": "markdown",
      "source": [
        "<br><br>\n",
        "\n",
        "- - - \n",
        "\n",
        "## Code"
      ],
      "metadata": {}
    },
    {
      "cell_type": "code",
      "source": [],
      "outputs": [],
      "execution_count": null,
      "metadata": {
        "collapsed": false,
        "outputHidden": false,
        "inputHidden": false
      }
    },
    {
      "cell_type": "markdown",
      "source": [
        "<br><br>\n",
        "\n",
        "- - - \n",
        "\n",
        "<span style='font-size:40px;font-weight:650'>\n",
        "    END\n",
        "</span>"
      ],
      "metadata": {}
    }
  ],
  "metadata": {
    "kernelspec": {
      "name": "utilipy",
      "language": "python",
      "display_name": "utilipy"
    },
    "language_info": {
      "name": "python",
      "version": "3.7.3",
      "mimetype": "text/x-python",
      "codemirror_mode": {
        "name": "ipython",
        "version": 3
      },
      "pygments_lexer": "ipython3",
      "nbconvert_exporter": "python",
      "file_extension": ".py"
    },
    "nteract": {
      "version": "0.25.1"
    },
    "kernel_info": {
      "name": "utilipy"
    }
  },
  "nbformat": 4,
  "nbformat_minor": 2
}